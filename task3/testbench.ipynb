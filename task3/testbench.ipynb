{
 "cells": [
  {
   "cell_type": "code",
   "execution_count": null,
   "id": "4511fe25",
   "metadata": {},
   "outputs": [],
   "source": [
    "from time import sleep\n",
    "from pynq import Overlay\n",
    "ps_gpio_design = Overlay(\"./bitstream/mybitstream.bit\")\n",
    "from pynq import GPIO"
   ]
  },
  {
   "cell_type": "code",
   "execution_count": null,
   "id": "3c10e831",
   "metadata": {},
   "outputs": [],
   "source": [
    "### Initialisation\n",
    "# opcode\tdone\tout\t        in2\t    in1\t    in0\n",
    "# 51—49\t    48\t    47—————24\t23——16\t15——8\t7——0\n",
    "\n",
    "opcode_pins = list(range(49, 52))\n",
    "done_pins = 48\n",
    "out_pins = list(range(24, 47))\n",
    "in2_pins = list(range(16, 23))\n",
    "in1_pins = list(range(8, 15))\n",
    "in0_pins = list(range(0, 7))\n",
    "\n",
    "opcode = [GPIO(GPIO.get_gpio_pin(pin), 'out') for pin in opcode_pins]\n",
    "done = GPIO(GPIO.get_gpio_pin(done_pins), 'in')\n",
    "out = [GPIO(GPIO.get_gpio_pin(pin), 'in') for pin in out_pins]\n",
    "in2 = [GPIO(GPIO.get_gpio_pin(pin), 'out') for pin in in2_pins]\n",
    "in1 = [GPIO(GPIO.get_gpio_pin(pin), 'out') for pin in in1_pins]\n",
    "in0 = [GPIO(GPIO.get_gpio_pin(pin), 'out') for pin in in0_pins]"
   ]
  },
  {
   "cell_type": "code",
   "execution_count": null,
   "id": "1c074a3f",
   "metadata": {},
   "outputs": [],
   "source": [
    "# Opcode 0: Add\n",
    "opcode_val = 0\n",
    "in1_val = 3\n",
    "in2_val = 4\n",
    "\n",
    "opcode_val[2].write(0)\n",
    "opcode_val[1].write(0)\n",
    "opcode_val[0].write(0)\n"
   ]
  },
  {
   "cell_type": "code",
   "execution_count": null,
   "id": "7f16b34e",
   "metadata": {},
   "outputs": [
    {
     "ename": "NameError",
     "evalue": "name 'opcode' is not defined",
     "output_type": "error",
     "traceback": [
      "\u001b[31m---------------------------------------------------------------------------\u001b[39m",
      "\u001b[31mNameError\u001b[39m                                 Traceback (most recent call last)",
      "\u001b[36mCell\u001b[39m\u001b[36m \u001b[39m\u001b[32mIn[1]\u001b[39m\u001b[32m, line 8\u001b[39m\n\u001b[32m      6\u001b[39m \u001b[38;5;66;03m# Beispiel: 3 (binär 011)\u001b[39;00m\n\u001b[32m      7\u001b[39m in1_val = \u001b[32m3\u001b[39m\n\u001b[32m----> \u001b[39m\u001b[32m8\u001b[39m write_to_opcode(in1_val, \u001b[43mopcode\u001b[49m)\n",
      "\u001b[31mNameError\u001b[39m: name 'opcode' is not defined"
     ]
    }
   ],
   "source": [
    "def write_bus(val, bus):\n",
    "    for i, g in enumerate(bus):\n",
    "        g.write((val >> i) & 1)\n",
    "\n",
    "def read_bus(bus):\n",
    "    val = 0\n",
    "    for i, g in enumerate(bus):\n",
    "        val |= (g.read() & 1) << i\n",
    "    return val\n",
    "\n",
    "def run_test(opcode_val, in0_val=0, in1_val=0, in2_val=0, label=\"\"):\n",
    "    # Werte maskieren\n",
    "    in0_val &= 0xFF\n",
    "    in1_val &= 0xFF\n",
    "    in2_val &= 0xFF\n",
    "    # Auf Pins schreiben\n",
    "    write_bus(opcode_val, opcode)\n",
    "    write_bus(in0_val, in0)\n",
    "    write_bus(in1_val, in1)\n",
    "    write_bus(in2_val, in2)\n",
    "    sleep(0.01)  # kurze Wartezeit\n",
    "    # Ergebnisse einlesen\n",
    "    result = read_bus(out)\n",
    "    done_val = done.read()\n",
    "    print(f\"{label}: out={result} done={done_val}\")"
   ]
  },
  {
   "cell_type": "code",
   "execution_count": null,
   "id": "8540eef5",
   "metadata": {},
   "outputs": [],
   "source": [
    "# --- Testsuite ---\n",
    "print(\"Starte Testbench...\")\n",
    "\n",
    "# Add (opcode 0): in0 + in1\n",
    "run_test(0b000, in0_val=10, in1_val=5, label=\"Add 10+5\")\n",
    "\n",
    "# Sub (opcode 1): in0 - in1\n",
    "run_test(0b001, in0_val=10, in1_val=3, label=\"Sub 10-3\")\n",
    "\n",
    "# Mult (opcode 2): in0 * in1\n",
    "run_test(0b010, in0_val=4, in1_val=5, label=\"Mult 4*5\")\n",
    "\n",
    "# Shift Right (opcode 3): in0 >> in1\n",
    "run_test(0b011, in0_val=64, in1_val=2, label=\"Shift Right 64>>2\")\n",
    "\n",
    "# Square (opcode 4): in0^2\n",
    "run_test(0b100, in0_val=7, label=\"Square 7^2\")\n",
    "\n",
    "# Cube (opcode 5): in0^3\n",
    "run_test(0b101, in0_val=3, label=\"Cube 3^3\")\n",
    "\n",
    "# Triple Add (opcode 6): in0+in1+in2\n",
    "run_test(0b110, in0_val=2, in1_val=3, in2_val=4, label=\"Triple Add 2+3+4\")\n",
    "\n",
    "# F(x,y,z) (opcode 7) – Beispiel mit 4-Bit Eingängen\n",
    "run_test(0b111, in0_val=0b1010, in1_val=0b0101, in2_val=0b0011, label=\"F(x,y,z)\")"
   ]
  },
  {
   "cell_type": "code",
   "execution_count": null,
   "id": "2ccab1d4",
   "metadata": {},
   "outputs": [],
   "source": [
    "# XOR_input_A.write(0)\n",
    "# XOR_input_B.write(0)\n",
    "# print(f\"XOR_output_C: {XOR_output_C.read()}\")\n",
    "# XOR_input_A.write(1)\n",
    "# XOR_input_B.write(0)\n",
    "# print(f\"XOR_output_C: {XOR_output_C.read()}\")\n",
    "# XOR_input_A.write(0)\n",
    "# XOR_input_B.write(1)\n",
    "# print(f\"XOR_output_C: {XOR_output_C.read()}\")\n",
    "# XOR_input_A.write(1)\n",
    "# XOR_input_B.write(1)\n",
    "# print(f\"XOR_output_C: {XOR_output_C.read()}\")"
   ]
  }
 ],
 "metadata": {
  "kernelspec": {
   "display_name": "Python 3",
   "language": "python",
   "name": "python3"
  },
  "language_info": {
   "codemirror_mode": {
    "name": "ipython",
    "version": 3
   },
   "file_extension": ".py",
   "mimetype": "text/x-python",
   "name": "python",
   "nbconvert_exporter": "python",
   "pygments_lexer": "ipython3",
   "version": "3.13.5"
  }
 },
 "nbformat": 4,
 "nbformat_minor": 5
}
